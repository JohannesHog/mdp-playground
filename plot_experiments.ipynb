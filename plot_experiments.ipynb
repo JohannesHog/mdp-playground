{
 "cells": [
  {
   "cell_type": "code",
   "execution_count": 1,
   "metadata": {},
   "outputs": [],
   "source": [
    "# Setup to analyse an MDP Playground experiment\n",
    "from mdp_playground.analysis import MDPP_Analysis\n",
    "\n",
    "# Set the following to True to save PDFs of plots that you generate below\n",
    "save_fig = False"
   ]
  },
  {
   "cell_type": "code",
   "execution_count": 2,
   "metadata": {
    "scrolled": true
   },
   "outputs": [
    {
     "name": "stdout",
     "output_type": "stream",
     "text": [
      "Loading data from a sequential run/already combined runs of experiment configurations.\n",
      "Training stats read (rows, columns): (1330, 19)\n",
      "train stats shape: (1, 1, 1, 1, 1, 1, 1, 1, 1, 1, 7, 1, 1, 1, 10, 3)\n",
      "eval stats shape: (1, 1, 1, 1, 1, 1, 1, 1, 1, 1, 7, 1, 1, 1, 10, 3)\n",
      "Dimension varied: action_space_max . The values it took: ['0.1', '0.25', '0.5', '1.0', '2.0', '4.0', '8.0'] . Number of values it took: 7 . Index in loaded data: 10\n",
      "Loading data from a sequential run/already combined runs of experiment configurations.\n",
      "Training stats read (rows, columns): (1330, 19)\n",
      "train stats shape: (1, 1, 1, 1, 1, 1, 1, 1, 1, 1, 7, 1, 1, 1, 10, 3)\n",
      "eval stats shape: (1, 1, 1, 1, 1, 1, 1, 1, 1, 1, 7, 1, 1, 1, 10, 3)\n",
      "Dimension varied: action_space_max . The values it took: ['0.1', '0.25', '0.5', '1.0', '2.0', '4.0', '8.0'] . Number of values it took: 7 . Index in loaded data: 10\n",
      "Loading data from a sequential run/already combined runs of experiment configurations.\n",
      "Training stats read (rows, columns): (1330, 19)\n",
      "train stats shape: (1, 1, 1, 1, 1, 1, 1, 1, 1, 1, 1, 1, 7, 1, 10, 3)\n",
      "eval stats shape: (1, 1, 1, 1, 1, 1, 1, 1, 1, 1, 1, 1, 7, 1, 10, 3)\n",
      "Dimension varied: time_unit . The values it took: ['0.1', '0.25', '0.5', '1.0', '2.0', '4.0', '8.0'] . Number of values it took: 7 . Index in loaded data: 12\n",
      "Loading data from a sequential run/already combined runs of experiment configurations.\n",
      "Training stats read (rows, columns): (1330, 19)\n",
      "train stats shape: (1, 1, 1, 1, 1, 1, 1, 1, 1, 1, 1, 1, 7, 1, 10, 3)\n",
      "eval stats shape: (1, 1, 1, 1, 1, 1, 1, 1, 1, 1, 1, 1, 7, 1, 10, 3)\n",
      "Dimension varied: time_unit . The values it took: ['0.1', '0.25', '0.5', '1.0', '2.0', '4.0', '8.0'] . Number of values it took: 7 . Index in loaded data: 12\n"
     ]
    }
   ],
   "source": [
    "# Data loading\n",
    "mdpp_analysis = MDPP_Analysis()\n",
    "\n",
    "# load multiple experiments data\n",
    "\n",
    "# experiments = { <exp_name_1>: <dir_name_1>, ... }\n",
    "# Set dir_name to the location where the CSV files from running an experiment were saved\n",
    "# Set exp_name to the name that was given to the experiment when running it\n",
    "experiments = {\n",
    "             \"td3_move_to_a_point_action_max\": \"/media/suresh/work/ml_hiwi/data/mdpp_12713006\",\n",
    "             \"sac_move_to_a_point_action_max\": \"/media/suresh/work/ml_hiwi/data/mdpp_12746746\",\n",
    "             \"td3_move_to_a_point_time_unit\": \"/media/suresh/work/ml_hiwi/data/mdpp_12713385\",\n",
    "             \"sac_move_to_a_point_time_unit\": \"/media/suresh/work/ml_hiwi/data/mdpp_12747791\",\n",
    "}\n",
    "\n",
    "list_exp_data = mdpp_analysis.load_data(experiments)"
   ]
  },
  {
   "cell_type": "code",
   "execution_count": 3,
   "metadata": {},
   "outputs": [
    {
     "ename": "NameError",
     "evalue": "name 'cols_per_row' is not defined",
     "output_type": "error",
     "traceback": [
      "\u001b[0;31m---------------------------------------------------------------------------\u001b[0m",
      "\u001b[0;31mNameError\u001b[0m                                 Traceback (most recent call last)",
      "\u001b[0;32m<ipython-input-3-ef1b05c36d26>\u001b[0m in \u001b[0;36m<module>\u001b[0;34m()\u001b[0m\n\u001b[1;32m      1\u001b[0m \u001b[0;31m# 1-D: Plots showing reward after 20k timesteps when varying a single meta-feature\u001b[0m\u001b[0;34m\u001b[0m\u001b[0;34m\u001b[0m\u001b[0;34m\u001b[0m\u001b[0m\n\u001b[1;32m      2\u001b[0m \u001b[0;31m# Plots across 10 runs: Training: with std dev across the runs\u001b[0m\u001b[0;34m\u001b[0m\u001b[0;34m\u001b[0m\u001b[0;34m\u001b[0m\u001b[0m\n\u001b[0;32m----> 3\u001b[0;31m \u001b[0mmdpp_analysis\u001b[0m\u001b[0;34m.\u001b[0m\u001b[0mplot_1d_dimensions\u001b[0m\u001b[0;34m(\u001b[0m\u001b[0mlist_exp_data\u001b[0m\u001b[0;34m,\u001b[0m \u001b[0msave_fig\u001b[0m\u001b[0;34m,\u001b[0m \u001b[0mplot_type\u001b[0m \u001b[0;34m=\u001b[0m \u001b[0;34m\"agent\"\u001b[0m\u001b[0;34m)\u001b[0m\u001b[0;34m\u001b[0m\u001b[0;34m\u001b[0m\u001b[0m\n\u001b[0m",
      "\u001b[0;32m/media/suresh/work/ml_hiwi/mdp-playground/mdp_playground/analysis/analysis.py\u001b[0m in \u001b[0;36mplot_1d_dimensions\u001b[0;34m(self, list_exp_data, save_fig, train, metric_num, plot_type)\u001b[0m\n\u001b[1;32m    354\u001b[0m         \u001b[0;31m#plot\u001b[0m\u001b[0;34m\u001b[0m\u001b[0;34m\u001b[0m\u001b[0;34m\u001b[0m\u001b[0m\n\u001b[1;32m    355\u001b[0m         \u001b[0;32mfor\u001b[0m \u001b[0mgroup_key\u001b[0m \u001b[0;32min\u001b[0m \u001b[0mstats_data\u001b[0m\u001b[0;34m.\u001b[0m\u001b[0mkeys\u001b[0m\u001b[0;34m(\u001b[0m\u001b[0;34m)\u001b[0m\u001b[0;34m:\u001b[0m\u001b[0;34m\u001b[0m\u001b[0;34m\u001b[0m\u001b[0m\n\u001b[0;32m--> 356\u001b[0;31m             \u001b[0mrows\u001b[0m \u001b[0;34m=\u001b[0m \u001b[0mmath\u001b[0m\u001b[0;34m.\u001b[0m\u001b[0mceil\u001b[0m\u001b[0;34m(\u001b[0m\u001b[0;34m(\u001b[0m\u001b[0mlen\u001b[0m\u001b[0;34m(\u001b[0m\u001b[0mstats_data\u001b[0m\u001b[0;34m[\u001b[0m\u001b[0mgroup_key\u001b[0m\u001b[0;34m]\u001b[0m\u001b[0;34m.\u001b[0m\u001b[0mkeys\u001b[0m\u001b[0;34m(\u001b[0m\u001b[0;34m)\u001b[0m\u001b[0;34m)\u001b[0m\u001b[0;34m/\u001b[0m\u001b[0mcols_per_row\u001b[0m\u001b[0;34m)\u001b[0m\u001b[0;34m)\u001b[0m \u001b[0;31m# dynamically compute\u001b[0m\u001b[0;34m\u001b[0m\u001b[0;34m\u001b[0m\u001b[0m\n\u001b[0m\u001b[1;32m    357\u001b[0m             \u001b[0mcols\u001b[0m \u001b[0;34m=\u001b[0m \u001b[0;36m4\u001b[0m \u001b[0;31m# hard-coded value\u001b[0m\u001b[0;34m\u001b[0m\u001b[0;34m\u001b[0m\u001b[0m\n\u001b[1;32m    358\u001b[0m \u001b[0;34m\u001b[0m\u001b[0m\n",
      "\u001b[0;31mNameError\u001b[0m: name 'cols_per_row' is not defined"
     ]
    }
   ],
   "source": [
    "# 1-D: Plots showing reward after 20k timesteps when varying a single meta-feature\n",
    "# Plots across 10 runs: Training: with std dev across the runs\n",
    "mdpp_analysis.plot_1d_dimensions(list_exp_data, save_fig, plot_type = \"agent\")"
   ]
  },
  {
   "cell_type": "code",
   "execution_count": null,
   "metadata": {},
   "outputs": [],
   "source": [
    "# Plots across 10 runs: Evaluation: with std dev across the runs\n",
    "mdpp_analysis.plot_1d_dimensions(list_exp_data, save_fig, train=False, plot_type = \"agent\")"
   ]
  },
  {
   "cell_type": "code",
   "execution_count": null,
   "metadata": {},
   "outputs": [],
   "source": [
    "# 1-D: Plots showing reward after 20k timesteps when varying a single meta-feature\n",
    "# Plots across 10 runs: Training: with std dev across the runs\n",
    "mdpp_analysis.plot_1d_dimensions(list_exp_data, save_fig, plot_type = \"metric\")"
   ]
  },
  {
   "cell_type": "code",
   "execution_count": null,
   "metadata": {},
   "outputs": [],
   "source": [
    "# Plots across 10 runs: Evaluation: with std dev across the runs\n",
    "mdpp_analysis.plot_1d_dimensions(list_exp_data, save_fig, train=False, plot_type = \"metric\")"
   ]
  },
  {
   "cell_type": "code",
   "execution_count": null,
   "metadata": {},
   "outputs": [],
   "source": [
    "# This and the next cell do the same as the previous 2 cells but plot episode mean lengths instead of episode reward\n",
    "mdpp_analysis.plot_1d_dimensions(list_exp_data, save_fig, metric_num=-1, plot_type = \"agent\")"
   ]
  },
  {
   "cell_type": "code",
   "execution_count": null,
   "metadata": {},
   "outputs": [],
   "source": [
    "mdpp_analysis.plot_1d_dimensions(list_exp_data, save_fig, train=False, metric_num=-1, plot_type = \"agent\")"
   ]
  },
  {
   "cell_type": "code",
   "execution_count": null,
   "metadata": {},
   "outputs": [],
   "source": [
    "# 2-D heatmap plots across 10 runs: Training runs: with std dev across the runs\n",
    "# There seems to be a bug with matplotlib - x and y axes tick labels are not correctly set even though we pass them. Please feel free to look into the code and suggest a correction if you find it.\n",
    "mdpp_analysis.plot_2d_heatmap(list_exp_data, save_fig)"
   ]
  },
  {
   "cell_type": "code",
   "execution_count": null,
   "metadata": {
    "scrolled": false
   },
   "outputs": [],
   "source": [
    "# 2-D heatmap plots across 10 runs: Evaluation runs: with std dev across the runs\n",
    "mdpp_analysis.plot_2d_heatmap(list_exp_data, save_fig, train=False)"
   ]
  },
  {
   "cell_type": "code",
   "execution_count": null,
   "metadata": {},
   "outputs": [],
   "source": [
    "# Plot learning curves: Training: Each curve corresponds to a different seed for the agent\n",
    "mdpp_analysis.plot_learning_curves(list_exp_data, save_fig)"
   ]
  },
  {
   "cell_type": "code",
   "execution_count": null,
   "metadata": {},
   "outputs": [],
   "source": [
    "# Plot learning curves: Evaluation: Each curve corresponds to a different seed for the agent\n",
    "mdpp_analysis.plot_learning_curves(list_exp_data, save_fig, train=False)"
   ]
  },
  {
   "cell_type": "code",
   "execution_count": null,
   "metadata": {},
   "outputs": [],
   "source": []
  },
  {
   "cell_type": "code",
   "execution_count": null,
   "metadata": {},
   "outputs": [],
   "source": []
  }
 ],
 "metadata": {
  "kernelspec": {
   "display_name": "Python 3",
   "language": "python",
   "name": "python3"
  },
  "language_info": {
   "codemirror_mode": {
    "name": "ipython",
    "version": 3
   },
   "file_extension": ".py",
   "mimetype": "text/x-python",
   "name": "python",
   "nbconvert_exporter": "python",
   "pygments_lexer": "ipython3",
   "version": "3.6.12"
  }
 },
 "nbformat": 4,
 "nbformat_minor": 2
}
