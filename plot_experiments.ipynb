{
 "cells": [
  {
   "cell_type": "code",
   "execution_count": 3,
   "metadata": {},
   "outputs": [],
   "source": [
    "# Setup to analyse an MDP Playground experiment\n",
    "from mdp_playground.analysis import MDPP_Analysis\n",
    "# Set dir_name to the location where the CSV files from running an experiment were saved\n",
    "dir_name = '/home/rajanr/mdpp_12729986'\n",
    "# 12348452, 12354801, 12362352, 12495380, 12499228, 12500667, 12503823, 12505701, 12506870, 12532831, 12536403, 12540214, 12546339, 12550729, 12552121, 12578498, 12578770, 12579037, 12579179, 12579254, 12579419,\n",
    "# DDPG 12634504, 12678295, 12680567, 12699005, 12699367, 12699450, 12699786, 12700125, 12700943, 12701301, 12702414, 12703211, 12703537, 12703863, 12704353, 12705180, 12705480, 12713180\n",
    "# TD3 12706334, 12707024, 12707717, 12712031, 12712470, 12713006, 12713385, 12715696\n",
    "# Set exp_name to the name that was given to the experiment when running it\n",
    "exp_name = 'sac_move_to_a_point_tune_hps'\n",
    "num_total_configs = 243\n",
    "# Set the following to True to save PDFs of plots that you generate below\n",
    "save_fig = True"
   ]
  },
  {
   "cell_type": "code",
   "execution_count": 4,
   "metadata": {
    "scrolled": true
   },
   "outputs": [
    {
     "name": "stdout",
     "output_type": "stream",
     "text": [
      "Loading data from a distributed run of experiment configurations. Creating a combined CSV stats file.\n",
      "243 files were combined into 1 for file:/home/rajanr/mdpp_12729986/sac_move_to_a_point_tune_hps_n.csv\n",
      "Files missing for config_nums: [] . Did you pass the right value for max_total_configs as an argument?\n",
      "Unique line count values: [20]\n",
      "243 files were combined into 1 for file:/home/rajanr/mdpp_12729986/sac_move_to_a_point_tune_hps_n_eval.csv\n",
      "Files missing for config_nums: [] . Did you pass the right value for max_total_configs as an argument?\n",
      "Unique line count values: [209]\n",
      "Training stats read (rows, columns): (4617, 24)\n",
      "train stats shape: (1, 1, 1, 1, 1, 1, 1, 1, 1, 1, 1, 1, 1, 3, 3, 3, 3, 3, 1, 1, 3)\n",
      "eval stats shape: (1, 1, 1, 1, 1, 1, 1, 1, 1, 1, 1, 1, 1, 3, 3, 3, 3, 3, 1, 1, 3)\n",
      "Dimension varied: dummy_seed . The values it took: ['0', '1', '2'] . Number of values it took: 3 . Index in loaded data: 13\n",
      "Dimension varied: critic_learning_rate . The values it took: ['0.003', '0.0003', '2.9999999999999997e-05'] . Number of values it took: 3 . Index in loaded data: 14\n",
      "Dimension varied: fcnet_hiddens . The values it took: ['[88]', '[1616]', '[3232]'] . Number of values it took: 3 . Index in loaded data: 15\n",
      "Dimension varied: initial_alpha . The values it took: ['0.1', '1.0', '10.0'] . Number of values it took: 3 . Index in loaded data: 16\n",
      "Dimension varied: tau . The values it took: ['0.02', '0.002', '0.0002'] . Number of values it took: 3 . Index in loaded data: 17\n"
     ]
    }
   ],
   "source": [
    "# Data loading\n",
    "mdpp_analysis = MDPP_Analysis()\n",
    "train_stats, eval_stats, train_curves, eval_curves = mdpp_analysis.load_data(dir_name, exp_name, max_total_configs=num_total_configs)"
   ]
  },
  {
   "cell_type": "code",
   "execution_count": 5,
   "metadata": {},
   "outputs": [
    {
     "ename": "TypeError",
     "evalue": "only size-1 arrays can be converted to Python scalars",
     "output_type": "error",
     "traceback": [
      "\u001b[0;31m---------------------------------------------------------------------------\u001b[0m",
      "\u001b[0;31mTypeError\u001b[0m                                 Traceback (most recent call last)",
      "\u001b[0;32m<ipython-input-5-595b744a1809>\u001b[0m in \u001b[0;36m<module>\u001b[0;34m\u001b[0m\n\u001b[1;32m      1\u001b[0m \u001b[0;31m# 1-D: Plots showing reward after 20k timesteps when varying a single meta-feature\u001b[0m\u001b[0;34m\u001b[0m\u001b[0;34m\u001b[0m\u001b[0;34m\u001b[0m\u001b[0m\n\u001b[1;32m      2\u001b[0m \u001b[0;31m# Plots across 10 runs: Training: with std dev across the runs\u001b[0m\u001b[0;34m\u001b[0m\u001b[0;34m\u001b[0m\u001b[0;34m\u001b[0m\u001b[0m\n\u001b[0;32m----> 3\u001b[0;31m \u001b[0mmdpp_analysis\u001b[0m\u001b[0;34m.\u001b[0m\u001b[0mplot_1d_dimensions\u001b[0m\u001b[0;34m(\u001b[0m\u001b[0mtrain_stats\u001b[0m\u001b[0;34m,\u001b[0m \u001b[0msave_fig\u001b[0m\u001b[0;34m,\u001b[0m \u001b[0mmetric_num\u001b[0m\u001b[0;34m=\u001b[0m\u001b[0;34m-\u001b[0m\u001b[0;36m2\u001b[0m\u001b[0;34m)\u001b[0m\u001b[0;34m\u001b[0m\u001b[0;34m\u001b[0m\u001b[0m\n\u001b[0m",
      "\u001b[0;32m~/mdp-playground/mdp_playground/analysis/analysis.py\u001b[0m in \u001b[0;36mplot_1d_dimensions\u001b[0;34m(self, stats_data, save_fig, train, metric_num)\u001b[0m\n\u001b[1;32m    242\u001b[0m             \u001b[0mplt\u001b[0m\u001b[0;34m.\u001b[0m\u001b[0mbar\u001b[0m\u001b[0;34m(\u001b[0m\u001b[0mself\u001b[0m\u001b[0;34m.\u001b[0m\u001b[0mtick_labels\u001b[0m\u001b[0;34m[\u001b[0m\u001b[0;36m0\u001b[0m\u001b[0;34m]\u001b[0m\u001b[0;34m,\u001b[0m \u001b[0mto_plot_\u001b[0m\u001b[0;34m[\u001b[0m\u001b[0;34m:\u001b[0m\u001b[0;34m,\u001b[0m \u001b[0;36m0\u001b[0m\u001b[0;34m]\u001b[0m\u001b[0;34m,\u001b[0m \u001b[0myerr\u001b[0m\u001b[0;34m=\u001b[0m\u001b[0mto_plot_std_\u001b[0m\u001b[0;34m[\u001b[0m\u001b[0;34m:\u001b[0m\u001b[0;34m,\u001b[0m \u001b[0;36m0\u001b[0m\u001b[0;34m]\u001b[0m\u001b[0;34m)\u001b[0m\u001b[0;34m\u001b[0m\u001b[0;34m\u001b[0m\u001b[0m\n\u001b[1;32m    243\u001b[0m         \u001b[0;32melse\u001b[0m\u001b[0;34m:\u001b[0m\u001b[0;34m\u001b[0m\u001b[0;34m\u001b[0m\u001b[0m\n\u001b[0;32m--> 244\u001b[0;31m             \u001b[0mplt\u001b[0m\u001b[0;34m.\u001b[0m\u001b[0mbar\u001b[0m\u001b[0;34m(\u001b[0m\u001b[0mself\u001b[0m\u001b[0;34m.\u001b[0m\u001b[0mtick_labels\u001b[0m\u001b[0;34m[\u001b[0m\u001b[0;36m0\u001b[0m\u001b[0;34m]\u001b[0m\u001b[0;34m,\u001b[0m \u001b[0mto_plot_\u001b[0m\u001b[0;34m,\u001b[0m \u001b[0myerr\u001b[0m\u001b[0;34m=\u001b[0m\u001b[0mto_plot_std_\u001b[0m\u001b[0;34m)\u001b[0m\u001b[0;34m\u001b[0m\u001b[0;34m\u001b[0m\u001b[0m\n\u001b[0m\u001b[1;32m    245\u001b[0m         \u001b[0mplt\u001b[0m\u001b[0;34m.\u001b[0m\u001b[0mxlabel\u001b[0m\u001b[0;34m(\u001b[0m\u001b[0mself\u001b[0m\u001b[0;34m.\u001b[0m\u001b[0maxis_labels\u001b[0m\u001b[0;34m[\u001b[0m\u001b[0;36m0\u001b[0m\u001b[0;34m]\u001b[0m\u001b[0;34m)\u001b[0m\u001b[0;34m\u001b[0m\u001b[0;34m\u001b[0m\u001b[0m\n\u001b[1;32m    246\u001b[0m         \u001b[0mplt\u001b[0m\u001b[0;34m.\u001b[0m\u001b[0mylabel\u001b[0m\u001b[0;34m(\u001b[0m\u001b[0my_axis_label\u001b[0m\u001b[0;34m)\u001b[0m\u001b[0;34m\u001b[0m\u001b[0;34m\u001b[0m\u001b[0m\n",
      "\u001b[0;32m~/anaconda3/envs/py36_toy_rl/lib/python3.6/site-packages/matplotlib/pyplot.py\u001b[0m in \u001b[0;36mbar\u001b[0;34m(x, height, width, bottom, align, data, **kwargs)\u001b[0m\n\u001b[1;32m   2407\u001b[0m     return gca().bar(\n\u001b[1;32m   2408\u001b[0m         \u001b[0mx\u001b[0m\u001b[0;34m,\u001b[0m \u001b[0mheight\u001b[0m\u001b[0;34m,\u001b[0m \u001b[0mwidth\u001b[0m\u001b[0;34m=\u001b[0m\u001b[0mwidth\u001b[0m\u001b[0;34m,\u001b[0m \u001b[0mbottom\u001b[0m\u001b[0;34m=\u001b[0m\u001b[0mbottom\u001b[0m\u001b[0;34m,\u001b[0m \u001b[0malign\u001b[0m\u001b[0;34m=\u001b[0m\u001b[0malign\u001b[0m\u001b[0;34m,\u001b[0m\u001b[0;34m\u001b[0m\u001b[0;34m\u001b[0m\u001b[0m\n\u001b[0;32m-> 2409\u001b[0;31m         **({\"data\": data} if data is not None else {}), **kwargs)\n\u001b[0m\u001b[1;32m   2410\u001b[0m \u001b[0;34m\u001b[0m\u001b[0m\n\u001b[1;32m   2411\u001b[0m \u001b[0;34m\u001b[0m\u001b[0m\n",
      "\u001b[0;32m~/anaconda3/envs/py36_toy_rl/lib/python3.6/site-packages/matplotlib/__init__.py\u001b[0m in \u001b[0;36minner\u001b[0;34m(ax, data, *args, **kwargs)\u001b[0m\n\u001b[1;32m   1563\u001b[0m     \u001b[0;32mdef\u001b[0m \u001b[0minner\u001b[0m\u001b[0;34m(\u001b[0m\u001b[0max\u001b[0m\u001b[0;34m,\u001b[0m \u001b[0;34m*\u001b[0m\u001b[0margs\u001b[0m\u001b[0;34m,\u001b[0m \u001b[0mdata\u001b[0m\u001b[0;34m=\u001b[0m\u001b[0;32mNone\u001b[0m\u001b[0;34m,\u001b[0m \u001b[0;34m**\u001b[0m\u001b[0mkwargs\u001b[0m\u001b[0;34m)\u001b[0m\u001b[0;34m:\u001b[0m\u001b[0;34m\u001b[0m\u001b[0;34m\u001b[0m\u001b[0m\n\u001b[1;32m   1564\u001b[0m         \u001b[0;32mif\u001b[0m \u001b[0mdata\u001b[0m \u001b[0;32mis\u001b[0m \u001b[0;32mNone\u001b[0m\u001b[0;34m:\u001b[0m\u001b[0;34m\u001b[0m\u001b[0;34m\u001b[0m\u001b[0m\n\u001b[0;32m-> 1565\u001b[0;31m             \u001b[0;32mreturn\u001b[0m \u001b[0mfunc\u001b[0m\u001b[0;34m(\u001b[0m\u001b[0max\u001b[0m\u001b[0;34m,\u001b[0m \u001b[0;34m*\u001b[0m\u001b[0mmap\u001b[0m\u001b[0;34m(\u001b[0m\u001b[0msanitize_sequence\u001b[0m\u001b[0;34m,\u001b[0m \u001b[0margs\u001b[0m\u001b[0;34m)\u001b[0m\u001b[0;34m,\u001b[0m \u001b[0;34m**\u001b[0m\u001b[0mkwargs\u001b[0m\u001b[0;34m)\u001b[0m\u001b[0;34m\u001b[0m\u001b[0;34m\u001b[0m\u001b[0m\n\u001b[0m\u001b[1;32m   1566\u001b[0m \u001b[0;34m\u001b[0m\u001b[0m\n\u001b[1;32m   1567\u001b[0m         \u001b[0mbound\u001b[0m \u001b[0;34m=\u001b[0m \u001b[0mnew_sig\u001b[0m\u001b[0;34m.\u001b[0m\u001b[0mbind\u001b[0m\u001b[0;34m(\u001b[0m\u001b[0max\u001b[0m\u001b[0;34m,\u001b[0m \u001b[0;34m*\u001b[0m\u001b[0margs\u001b[0m\u001b[0;34m,\u001b[0m \u001b[0;34m**\u001b[0m\u001b[0mkwargs\u001b[0m\u001b[0;34m)\u001b[0m\u001b[0;34m\u001b[0m\u001b[0;34m\u001b[0m\u001b[0m\n",
      "\u001b[0;32m~/anaconda3/envs/py36_toy_rl/lib/python3.6/site-packages/matplotlib/axes/_axes.py\u001b[0m in \u001b[0;36mbar\u001b[0;34m(self, x, height, width, bottom, align, **kwargs)\u001b[0m\n\u001b[1;32m   2393\u001b[0m                 \u001b[0medgecolor\u001b[0m\u001b[0;34m=\u001b[0m\u001b[0me\u001b[0m\u001b[0;34m,\u001b[0m\u001b[0;34m\u001b[0m\u001b[0;34m\u001b[0m\u001b[0m\n\u001b[1;32m   2394\u001b[0m                 \u001b[0mlinewidth\u001b[0m\u001b[0;34m=\u001b[0m\u001b[0mlw\u001b[0m\u001b[0;34m,\u001b[0m\u001b[0;34m\u001b[0m\u001b[0;34m\u001b[0m\u001b[0m\n\u001b[0;32m-> 2395\u001b[0;31m                 \u001b[0mlabel\u001b[0m\u001b[0;34m=\u001b[0m\u001b[0;34m'_nolegend_'\u001b[0m\u001b[0;34m,\u001b[0m\u001b[0;34m\u001b[0m\u001b[0;34m\u001b[0m\u001b[0m\n\u001b[0m\u001b[1;32m   2396\u001b[0m                 )\n\u001b[1;32m   2397\u001b[0m             \u001b[0mr\u001b[0m\u001b[0;34m.\u001b[0m\u001b[0mupdate\u001b[0m\u001b[0;34m(\u001b[0m\u001b[0mkwargs\u001b[0m\u001b[0;34m)\u001b[0m\u001b[0;34m\u001b[0m\u001b[0;34m\u001b[0m\u001b[0m\n",
      "\u001b[0;32m~/anaconda3/envs/py36_toy_rl/lib/python3.6/site-packages/matplotlib/patches.py\u001b[0m in \u001b[0;36m__init__\u001b[0;34m(self, xy, width, height, angle, **kwargs)\u001b[0m\n\u001b[1;32m    725\u001b[0m         \"\"\"\n\u001b[1;32m    726\u001b[0m \u001b[0;34m\u001b[0m\u001b[0m\n\u001b[0;32m--> 727\u001b[0;31m         \u001b[0mPatch\u001b[0m\u001b[0;34m.\u001b[0m\u001b[0m__init__\u001b[0m\u001b[0;34m(\u001b[0m\u001b[0mself\u001b[0m\u001b[0;34m,\u001b[0m \u001b[0;34m**\u001b[0m\u001b[0mkwargs\u001b[0m\u001b[0;34m)\u001b[0m\u001b[0;34m\u001b[0m\u001b[0;34m\u001b[0m\u001b[0m\n\u001b[0m\u001b[1;32m    728\u001b[0m \u001b[0;34m\u001b[0m\u001b[0m\n\u001b[1;32m    729\u001b[0m         \u001b[0mself\u001b[0m\u001b[0;34m.\u001b[0m\u001b[0m_x0\u001b[0m \u001b[0;34m=\u001b[0m \u001b[0mxy\u001b[0m\u001b[0;34m[\u001b[0m\u001b[0;36m0\u001b[0m\u001b[0;34m]\u001b[0m\u001b[0;34m\u001b[0m\u001b[0;34m\u001b[0m\u001b[0m\n",
      "\u001b[0;32m~/anaconda3/envs/py36_toy_rl/lib/python3.6/site-packages/matplotlib/patches.py\u001b[0m in \u001b[0;36m__init__\u001b[0;34m(self, edgecolor, facecolor, color, linewidth, linestyle, antialiased, hatch, fill, capstyle, joinstyle, **kwargs)\u001b[0m\n\u001b[1;32m     87\u001b[0m         \u001b[0mself\u001b[0m\u001b[0;34m.\u001b[0m\u001b[0mset_fill\u001b[0m\u001b[0;34m(\u001b[0m\u001b[0mfill\u001b[0m\u001b[0;34m)\u001b[0m\u001b[0;34m\u001b[0m\u001b[0;34m\u001b[0m\u001b[0m\n\u001b[1;32m     88\u001b[0m         \u001b[0mself\u001b[0m\u001b[0;34m.\u001b[0m\u001b[0mset_linestyle\u001b[0m\u001b[0;34m(\u001b[0m\u001b[0mlinestyle\u001b[0m\u001b[0;34m)\u001b[0m\u001b[0;34m\u001b[0m\u001b[0;34m\u001b[0m\u001b[0m\n\u001b[0;32m---> 89\u001b[0;31m         \u001b[0mself\u001b[0m\u001b[0;34m.\u001b[0m\u001b[0mset_linewidth\u001b[0m\u001b[0;34m(\u001b[0m\u001b[0mlinewidth\u001b[0m\u001b[0;34m)\u001b[0m\u001b[0;34m\u001b[0m\u001b[0;34m\u001b[0m\u001b[0m\n\u001b[0m\u001b[1;32m     90\u001b[0m         \u001b[0mself\u001b[0m\u001b[0;34m.\u001b[0m\u001b[0mset_antialiased\u001b[0m\u001b[0;34m(\u001b[0m\u001b[0mantialiased\u001b[0m\u001b[0;34m)\u001b[0m\u001b[0;34m\u001b[0m\u001b[0;34m\u001b[0m\u001b[0m\n\u001b[1;32m     91\u001b[0m         \u001b[0mself\u001b[0m\u001b[0;34m.\u001b[0m\u001b[0mset_hatch\u001b[0m\u001b[0;34m(\u001b[0m\u001b[0mhatch\u001b[0m\u001b[0;34m)\u001b[0m\u001b[0;34m\u001b[0m\u001b[0;34m\u001b[0m\u001b[0m\n",
      "\u001b[0;32m~/anaconda3/envs/py36_toy_rl/lib/python3.6/site-packages/matplotlib/patches.py\u001b[0m in \u001b[0;36mset_linewidth\u001b[0;34m(self, w)\u001b[0m\n\u001b[1;32m    393\u001b[0m                 \u001b[0mw\u001b[0m \u001b[0;34m=\u001b[0m \u001b[0mmpl\u001b[0m\u001b[0;34m.\u001b[0m\u001b[0mrcParams\u001b[0m\u001b[0;34m[\u001b[0m\u001b[0;34m'axes.linewidth'\u001b[0m\u001b[0;34m]\u001b[0m\u001b[0;34m\u001b[0m\u001b[0;34m\u001b[0m\u001b[0m\n\u001b[1;32m    394\u001b[0m \u001b[0;34m\u001b[0m\u001b[0m\n\u001b[0;32m--> 395\u001b[0;31m         \u001b[0mself\u001b[0m\u001b[0;34m.\u001b[0m\u001b[0m_linewidth\u001b[0m \u001b[0;34m=\u001b[0m \u001b[0mfloat\u001b[0m\u001b[0;34m(\u001b[0m\u001b[0mw\u001b[0m\u001b[0;34m)\u001b[0m\u001b[0;34m\u001b[0m\u001b[0;34m\u001b[0m\u001b[0m\n\u001b[0m\u001b[1;32m    396\u001b[0m         \u001b[0;31m# scale the dash pattern by the linewidth\u001b[0m\u001b[0;34m\u001b[0m\u001b[0;34m\u001b[0m\u001b[0;34m\u001b[0m\u001b[0m\n\u001b[1;32m    397\u001b[0m         \u001b[0moffset\u001b[0m\u001b[0;34m,\u001b[0m \u001b[0mls\u001b[0m \u001b[0;34m=\u001b[0m \u001b[0mself\u001b[0m\u001b[0;34m.\u001b[0m\u001b[0m_us_dashes\u001b[0m\u001b[0;34m\u001b[0m\u001b[0;34m\u001b[0m\u001b[0m\n",
      "\u001b[0;31mTypeError\u001b[0m: only size-1 arrays can be converted to Python scalars"
     ]
    },
    {
     "data": {
      "image/png": "[encoded data removed]",
      "text/plain": [
       "<Figure size 216x108 with 1 Axes>"
      ]
     },
     "metadata": {
      "needs_background": "light"
     },
     "output_type": "display_data"
    }
   ],
   "source": [
    "# 1-D: Plots showing reward after 20k timesteps when varying a single meta-feature\n",
    "# Plots across 10 runs: Training: with std dev across the runs\n",
    "mdpp_analysis.plot_1d_dimensions(train_stats, save_fig, metric_num=-2)"
   ]
  },
  {
   "cell_type": "code",
   "execution_count": null,
   "metadata": {},
   "outputs": [],
   "source": [
    "# Plots across 10 runs: Evaluation: with std dev across the runs\n",
    "mdpp_analysis.plot_1d_dimensions(eval_stats, save_fig, train=False, metric_num=-2)"
   ]
  },
  {
   "cell_type": "code",
   "execution_count": null,
   "metadata": {},
   "outputs": [],
   "source": [
    "mdpp_analysis.plot_1d_dimensions(train_stats, save_fig, metric_num=-1)"
   ]
  },
  {
   "cell_type": "code",
   "execution_count": null,
   "metadata": {},
   "outputs": [],
   "source": [
    "mdpp_analysis.plot_1d_dimensions(eval_stats, save_fig, train=False, metric_num=-1)"
   ]
  },
  {
   "cell_type": "code",
   "execution_count": null,
   "metadata": {},
   "outputs": [],
   "source": [
    "# 2-D heatmap plots across 10 runs: Training runs: with std dev across the runs\n",
    "# There seems to be a bug with matplotlib - x and y axes tick labels are not correctly set even though we pass them. Please feel free to look into the code and suggest a correction if you find it.\n",
    "mdpp_analysis.plot_2d_heatmap(train_stats, save_fig, metric_num=-2)"
   ]
  },
  {
   "cell_type": "code",
   "execution_count": null,
   "metadata": {
    "scrolled": false
   },
   "outputs": [],
   "source": [
    "# 2-D heatmap plots across 10 runs: Evaluation runs: with std dev across the runs\n",
    "mdpp_analysis.plot_2d_heatmap(eval_stats, save_fig, train=False, metric_num=-2)"
   ]
  },
  {
   "cell_type": "code",
   "execution_count": null,
   "metadata": {},
   "outputs": [],
   "source": [
    "# Plot learning curves: Training: Each curve corresponds to a different seed for the agent\n",
    "mdpp_analysis.plot_learning_curves(train_curves, save_fig, metric_num=-2)"
   ]
  },
  {
   "cell_type": "code",
   "execution_count": null,
   "metadata": {},
   "outputs": [],
   "source": [
    "# Plot learning curves: Evaluation: Each curve corresponds to a different seed for the agent\n",
    "mdpp_analysis.plot_learning_curves(eval_curves, save_fig, train=False)"
   ]
  },
  {
   "cell_type": "code",
   "execution_count": 7,
   "metadata": {
    "scrolled": false
   },
   "outputs": [
    {
     "name": "stdout",
     "output_type": "stream",
     "text": [
      "config_file_path: /home/rajanr/mdp-playground/experiments\n",
      "Number of seeds for environment: 3\n",
      "Found seed axis: dummy_seed\n",
      "value_tuples [[2], [2], [0], [True], [0], [0], [[0, 0]], [0.5], [10], [1], [1.0], [1], [0.003, 0.0003, 3e-05], [[8, 8], [16, 16], [32, 32]], [0.1, 1.0, 10.0], [0.02, 0.002, 0.0002], [2000], [1]]\n",
      "Total number of configs. to run: 81\n",
      "Varying dims: ['dummy_seed', 'critic_learning_rate', 'fcnet_hiddens', 'initial_alpha', 'tau']\n",
      "dummy_seeds_axis: 13 21\n",
      "Sliced shape: (1, 1, 1, 1, 1, 1, 1, 1, 1, 1, 1, 1, 1, 3, 3, 3, 3, 1, 1) (1, 1, 1, 1, 1, 1, 1, 1, 1, 1, 1, 1, 1, 3, 3, 3, 3, 3, 1, 1)\n",
      "sort of indices:\n",
      " [40 53 10  9 34 47 44 19 64 20 42 21 43 22 37 14 38 23 11  5 18  6 65 25\n",
      "  2 77 51 32 13 28 73  4 33 29 74 46 72  1 39  0 48 52 75 41 26  8 17 27\n",
      "  3 45 15 24 36 49  7 50 63 68 66 56 12 31 30 67 16 76 35 54 58 80 79 69\n",
      " 78 61 70 59 60 71 55 57 62]\n",
      "sort of indices (with std taken into account):\n",
      " [47  9 34 10 64 53 20 11 23 19 44 40 14 22 43 21 37  5 42 38 65 18 25 51\n",
      "  1 77 33 13 73 28  2 29 32  4 17 27  6 72 46 26 48 52  8 75 15 74 49  3\n",
      " 24 39 45  0 41 36 50  7 68 56 66 63 79 80 67 58 78 61 69 70 12 54 31 30\n",
      " 16 60 71 76 57 35 55 59 62]\n",
      "sort of values:\n",
      " [ 7.62133907  7.57510617  7.5635235   7.55214771  7.52926915  7.5272638\n",
      "  7.51919035  7.50652413  7.49631803  7.49574036  7.45897067  7.43408522\n",
      "  7.4157922   7.41436918  7.41411307  7.4029755   7.40048881  7.3944583\n",
      "  7.39036442  7.36061906  7.35227478  7.33700182  7.33301954  7.31600823\n",
      "  7.28227622  7.27935449  7.26664286  7.25314958  7.2447851   7.24413263\n",
      "  7.2334317   7.22565114  7.18853218  7.1850276   7.18075008  7.17521408\n",
      "  7.1728172   7.13313386  7.09888984  7.09725749  7.07550835  7.06651224\n",
      "  7.0622516   7.04911697  7.04870978  7.04350239  7.03791259  7.03351146\n",
      "  7.02198483  6.96304831  6.94989734  6.91708044  6.89500442  6.78581637\n",
      "  6.756645    6.68345159  5.39187067  5.02334413  5.00906161  4.73032774\n",
      "  4.28770888  4.20818063  4.05335077  3.76974868  3.70861127  3.16099651\n",
      "  3.14757685  2.99815775  2.31451737  2.07258693  2.05363952  1.09690448\n",
      "  0.99320497  0.96868253  0.80969175  0.06504597 -0.11472132 -0.49972963\n",
      " -0.71307742 -1.09693277 -3.23257493]\n",
      "sort of values (with std taken into account):\n",
      " [ 7.48574074  7.47308885  7.45771601  7.4443913   7.42130982  7.41834182\n",
      "  7.39952215  7.36788987  7.36361563  7.3607598   7.3600863   7.35452412\n",
      "  7.32740731  7.32367804  7.31622269  7.31172854  7.3003828   7.27831789\n",
      "  7.25537988  7.22712262  7.17270175  7.13567211  7.09520877  7.09499595\n",
      "  7.09388005  7.0730101   7.07205524  7.0712954   7.06818158  7.06005413\n",
      "  7.05741224  7.04143799  7.0387179   6.98692068  6.98516147  6.98131744\n",
      "  6.9726781   6.96970006  6.9298393   6.9284723   6.92535486  6.80724123\n",
      "  6.80337581  6.74810696  6.74592579  6.72417418  6.68600494  6.68287067\n",
      "  6.68010217  6.67671601  6.66787926  6.66493505  6.60322621  6.5514606\n",
      "  6.44031664  6.28934711  3.95212767  2.71080019  2.56093358  2.36162612\n",
      "  1.69488417  1.51507584  1.43832708  1.38031365  0.74874618  0.65075689\n",
      "  0.63469479  0.53401662  0.00894913 -0.08485172 -0.29852067 -0.43942182\n",
      " -1.39356524 -1.49512254 -2.8810412  -2.89793041 -2.97215615 -2.99367526\n",
      " -3.26436218 -3.93274973 -5.83703272]\n",
      "TOP 3 configs (with std taken into account):\n",
      "(2, 2, 0, True, 0, 0, [0, 0], 0.5, 10, 1, 1.0, 1, 0.0003, [32, 32], 0.1, 0.0002, 2000, 1)\n",
      "(2, 2, 0, True, 0, 0, [0, 0], 0.5, 10, 1, 1.0, 1, 0.003, [16, 16], 0.1, 0.02, 2000, 1)\n",
      "(2, 2, 0, True, 0, 0, [0, 0], 0.5, 10, 1, 1.0, 1, 0.0003, [8, 8], 10.0, 0.002, 2000, 1)\n",
      "\n",
      "BOTTOM 3 configs (with std taken into account):\n",
      "(2, 2, 0, True, 0, 0, [0, 0], 0.5, 10, 1, 1.0, 1, 3e-05, [8, 8], 10.0, 0.0002, 2000, 1)\n",
      "(2, 2, 0, True, 0, 0, [0, 0], 0.5, 10, 1, 1.0, 1, 3e-05, [8, 8], 1.0, 0.0002, 2000, 1)\n",
      "(2, 2, 0, True, 0, 0, [0, 0], 0.5, 10, 1, 1.0, 1, 3e-05, [8, 8], 0.1, 0.002, 2000, 1)\n"
     ]
    },
    {
     "data": {
      "image/png": "[encoded data removed]",
      "text/plain": [
       "<Figure size 2160x108 with 1 Axes>"
      ]
     },
     "metadata": {
      "needs_background": "light"
     },
     "output_type": "display_data"
    },
    {
     "name": "stdout",
     "output_type": "stream",
     "text": [
      "Sliced shape: (1, 1, 1, 1, 1, 1, 1, 1, 1, 1, 1, 1, 1, 3, 3, 3, 3, 1, 1) (1, 1, 1, 1, 1, 1, 1, 1, 1, 1, 1, 1, 1, 3, 3, 3, 3, 3, 1, 1)\n",
      "sort of indices:\n",
      " [44 74 53 73 15 18 40 21 29 37 32  7  9 28 41 46 13  0 48 10 34 49 33 22\n",
      " 24 45 77  2 75  6  4  1 25 14 17  8 20 26 65 11 23 19 64 38 72  5 50 47\n",
      " 36  3 39 42 43 27 63 51 68 52 67 66 79 80 56 12 30 31 58 54 76 35 78 16\n",
      " 69 59 70 57 61 71 55 60 62]\n",
      "sort of indices (with std taken into account):\n",
      " [44 74 53 73 15 37 18 13 28 29  7 21  9 32 40 22 10 48 77 46 75 49 20 14\n",
      " 11  2  0 24 25 33 17 34 26 19 41  8  4  6 23 38  1 45 50 65 47  5 64 36\n",
      " 72  3 42 43 39 27 52 51 63 68 67 79 80 66 56 78 69 70 12 58 30 54 31 61\n",
      " 76 55 60 35 16 59 71 57 62]\n",
      "sort of values:\n",
      " [ 7.42984765  7.42156128  7.39526137  7.36599323  7.31772286  7.31083597\n",
      "  7.30540037  7.30080235  7.29803345  7.29545482  7.28832414  7.27791257\n",
      "  7.26174428  7.25923457  7.258582    7.25766582  7.2567923   7.2526305\n",
      "  7.24668705  7.24425629  7.24212553  7.23531096  7.23241503  7.23048871\n",
      "  7.22595814  7.22322852  7.21894532  7.21839542  7.21497624  7.21383565\n",
      "  7.20238994  7.19928828  7.19824599  7.19442191  7.19239181  7.19120851\n",
      "  7.19006578  7.18839477  7.18488669  7.18477642  7.17652757  7.17335774\n",
      "  7.14640053  7.14174479  7.11725061  7.10642105  7.08823728  7.07818992\n",
      "  7.06077858  7.0166978   6.97364066  6.97147538  6.90427997  6.80149753\n",
      "  6.74259931  6.66546702  6.65536276  6.61878573  5.85963049  5.2734398\n",
      "  5.01863423  4.73574233  4.50093534  4.37395086  4.29162647  3.79452462\n",
      "  3.24264987  3.20312707  3.16923869  2.70181441  2.69521056  2.62184338\n",
      "  2.05986598  1.09591134  0.85791141 -0.2307537  -0.53902382 -0.54335563\n",
      " -0.78200806 -1.75608573 -4.36374327]\n",
      "sort of values (with std taken into account):\n",
      " [ 7.41643949  7.39155188  7.35432526  7.29112263  7.28722741  7.26360546\n",
      "  7.24358662  7.24304967  7.23454605  7.23316684  7.23013844  7.22631786\n",
      "  7.22319604  7.22067722  7.21901777  7.21710625  7.20996115  7.20582942\n",
      "  7.20207624  7.20069595  7.19082512  7.18838228  7.18760525  7.18207865\n",
      "  7.18196421  7.18156355  7.17986861  7.17959421  7.17770686  7.17453847\n",
      "  7.169748    7.16796559  7.16789991  7.16011553  7.15442746  7.14754804\n",
      "  7.13066915  7.12956184  7.12434655  7.1172211   7.11346477  7.09385153\n",
      "  7.07072258  7.04052084  7.03441528  7.02883935  6.95383211  6.8103073\n",
      "  6.76779041  6.69969548  6.68731628  6.62354924  6.5083466   6.45333646\n",
      "  6.20816471  6.20197255  6.1222938   5.95370411  4.68589216  4.61053607\n",
      "  4.39079943  2.92591016  1.63068514  1.50031856  1.36065753  0.53593684\n",
      "  0.28491409  0.17503405  0.05550932 -0.13264734 -0.91426507 -1.07597532\n",
      " -2.58770855 -3.47961772 -3.73489353 -3.79469254 -3.81784606 -4.50903416\n",
      " -4.54691098 -4.68964562 -6.95046787]\n",
      "TOP 3 configs (with std taken into account):\n",
      "(2, 2, 0, True, 0, 0, [0, 0], 0.5, 10, 1, 1.0, 1, 0.0003, [16, 16], 10.0, 0.0002, 2000, 1)\n",
      "(2, 2, 0, True, 0, 0, [0, 0], 0.5, 10, 1, 1.0, 1, 3e-05, [32, 32], 0.1, 0.0002, 2000, 1)\n",
      "(2, 2, 0, True, 0, 0, [0, 0], 0.5, 10, 1, 1.0, 1, 0.0003, [32, 32], 10.0, 0.0002, 2000, 1)\n",
      "\n",
      "BOTTOM 3 configs (with std taken into account):\n",
      "(2, 2, 0, True, 0, 0, [0, 0], 0.5, 10, 1, 1.0, 1, 3e-05, [8, 8], 10.0, 0.0002, 2000, 1)\n",
      "(2, 2, 0, True, 0, 0, [0, 0], 0.5, 10, 1, 1.0, 1, 3e-05, [8, 8], 1.0, 0.02, 2000, 1)\n",
      "(2, 2, 0, True, 0, 0, [0, 0], 0.5, 10, 1, 1.0, 1, 3e-05, [16, 16], 10.0, 0.0002, 2000, 1)\n"
     ]
    },
    {
     "data": {
      "image/png": "[encoded data removed]",
      "text/plain": [
       "<Figure size 2160x108 with 1 Axes>"
      ]
     },
     "metadata": {
      "needs_background": "light"
     },
     "output_type": "display_data"
    },
    {
     "name": "stdout",
     "output_type": "stream",
     "text": [
      "SpearmanrResult(correlation=0.7029358626919602, pvalue=2.5669822337450436e-13)\n",
      "SpearmanrResult(correlation=0.9671409214092139, pvalue=9.556116191452366e-49)\n",
      "SpearmanrResult(correlation=0.7120596205962059, pvalue=9.133019650740677e-14)\n",
      "SpearmanrResult(correlation=0.9690831074977416, pvalue=8.937367990028564e-50)\n"
     ]
    }
   ],
   "source": [
    "# some more analysis\n",
    "import os\n",
    "import sys\n",
    "import numpy as np\n",
    "from scipy.stats import spearmanr as spm\n",
    "from scipy.stats import pearsonr as prs\n",
    "import matplotlib.pyplot as plt\n",
    "\n",
    "dir_name_config = 'experiments/'\n",
    "file_ = dir_name_config + exp_name\n",
    "\n",
    "config_file_path = os.path.abspath('/'.join(file_.split('/')[:-1]))\n",
    "# print(file_.split('/')[:-1])\n",
    "print(\"config_file_path:\", config_file_path)\n",
    "sys.path.insert(1, config_file_path) #hack\n",
    "import importlib\n",
    "config = importlib.import_module(file_.split('/')[-1], package=None)\n",
    "print(\"Number of seeds for environment:\", config.num_seeds)\n",
    "\n",
    "value_tuples = []\n",
    "for config_type, config_dict in config.var_configs.items():\n",
    "    for key in config_dict:\n",
    "        if 'seed' in key:\n",
    "            print(\"Found seed axis:\", key)\n",
    "            pass\n",
    "        else:\n",
    "            assert type(config.var_configs[config_type][key]) == list, \"var_config should be a dict of dicts with lists as the leaf values to allow each configuration option to take multiple possible values\"\n",
    "            value_tuples.append(config.var_configs[config_type][key])\n",
    "print(\"value_tuples\", value_tuples)\n",
    "\n",
    "import itertools\n",
    "cartesian_product_configs = list(itertools.product(*value_tuples))\n",
    "print(\"Total number of configs. to run:\", len(cartesian_product_configs))\n",
    "print(\"Varying dims:\", mdpp_analysis.axis_labels)\n",
    "# import itertools\n",
    "# cartesian_product_configs = list(itertools.product(*config_vals))\n",
    "for i in range(len(train_stats.shape)):\n",
    "    if train_stats.shape[i] > 1:\n",
    "        dummy_seeds_axis = i\n",
    "        break\n",
    "print(\"dummy_seeds_axis:\", dummy_seeds_axis, len(train_stats.shape))\n",
    "\n",
    "\n",
    "def analysis(train_stats):\n",
    "    mean_data_ = np.mean(train_stats[..., -2], axis=dummy_seeds_axis)\n",
    "    std_data_ = np.std(train_stats[..., -2], axis=dummy_seeds_axis)\n",
    "    print(\"Mean shape (after slice), Sliced shape:\", mean_data_.shape, train_stats[..., -2].shape)\n",
    "    flattened_mean = np.ravel(mean_data_)\n",
    "    flattened_std = np.ravel(std_data_)\n",
    "    ranks = np.argsort(flattened_mean)[::-1]\n",
    "    print('sort of indices:\\n', ranks)\n",
    "    ranks_with_std = np.argsort(flattened_mean - flattened_std)[::-1]\n",
    "    print('sort of indices (with std taken into account):\\n', ranks_with_std)\n",
    "    sorted_vals = np.sort(flattened_mean)[::-1]\n",
    "    print('sort of values:\\n', sorted_vals)\n",
    "    sorted_vals_with_std = np.sort(flattened_mean - flattened_std)[::-1]\n",
    "    print('sort of values (with std taken into account):\\n', sorted_vals_with_std)\n",
    "    print(\"TOP 3 configs (with std taken into account):\")\n",
    "    print(cartesian_product_configs[np.argsort(flattened_mean - flattened_std)[-1]]) \n",
    "    print(cartesian_product_configs[np.argsort(flattened_mean - flattened_std)[-2]])\n",
    "    print(cartesian_product_configs[np.argsort(flattened_mean - flattened_std)[-3]])\n",
    "    print(\"\\nBOTTOM 3 configs (with std taken into account):\")\n",
    "    print(cartesian_product_configs[np.argsort(flattened_mean - flattened_std)[0]]) \n",
    "    print(cartesian_product_configs[np.argsort(flattened_mean - flattened_std)[1]])\n",
    "    print(cartesian_product_configs[np.argsort(flattened_mean - flattened_std)[2]])\n",
    "    plt.figure(figsize=(30, 1.5))\n",
    "    plt.bar([i for i in range(len(flattened_mean))], flattened_mean, yerr=flattened_std)\n",
    "    plt.show()\n",
    "    return flattened_mean, flattened_mean - flattened_std\n",
    "    \n",
    "sorted_vals_t, sorted_vals_with_std_t = analysis(train_stats)\n",
    "sorted_vals_e, sorted_vals_with_std_e = analysis(eval_stats)\n",
    "print(spm(sorted_vals_t, sorted_vals_e))\n",
    "print(spm(sorted_vals_t, sorted_vals_with_std_t))\n",
    "print(spm(sorted_vals_with_std_t, sorted_vals_with_std_e))\n",
    "print(spm(sorted_vals_e, sorted_vals_with_std_e))\n"
   ]
  }
 ],
 "metadata": {
  "kernelspec": {
   "display_name": "Python 3",
   "language": "python",
   "name": "python3"
  },
  "language_info": {
   "codemirror_mode": {
    "name": "ipython",
    "version": 3
   },
   "file_extension": ".py",
   "mimetype": "text/x-python",
   "name": "python",
   "nbconvert_exporter": "python",
   "pygments_lexer": "ipython3",
   "version": "3.6.9"
  }
 },
 "nbformat": 4,
 "nbformat_minor": 2
}
